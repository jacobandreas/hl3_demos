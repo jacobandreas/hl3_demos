{
 "cells": [
  {
   "cell_type": "code",
   "execution_count": 1,
   "metadata": {},
   "outputs": [],
   "source": [
    "import itertools as it\n",
    "import json\n",
    "import numpy as np\n",
    "import os\n",
    "import pickle\n",
    "\n",
    "DATA_DIR = \"../data\"\n",
    "SEG_DIR = \"instance_segmentation_data\"\n",
    "HOUSE_DIR = \"houses\"\n",
    "\n",
    "GOOD_PARTS = {\"wall\", \"roof\"}\n",
    "\n",
    "# TODO move to constants file\n",
    "ACTION_STOP = 0\n",
    "ACTION_GO = 1\n",
    "TASK_PAD = \"*pad*\"\n",
    "TASK_SOS = \"*sos*\"\n",
    "TASK_EOS = \"*eos*\""
   ]
  },
  {
   "cell_type": "code",
   "execution_count": 2,
   "metadata": {},
   "outputs": [],
   "source": [
    "with open(os.path.join(DATA_DIR, SEG_DIR, \"training_data.pkl\"), \"rb\") as seg_f:\n",
    "    segments = pickle.load(seg_f)"
   ]
  },
  {
   "cell_type": "code",
   "execution_count": 3,
   "metadata": {},
   "outputs": [],
   "source": [
    "annotation_vocab = {TASK_PAD: 0, TASK_SOS: 1, TASK_EOS: 2}\n",
    "\n",
    "SCHEMATIC_SIZE = (20, 20, 20)\n",
    "\n",
    "def construct_plan(schematic, annotation):\n",
    "    if annotation not in annotation_vocab:\n",
    "        annotation_vocab[annotation] = len(annotation_vocab)\n",
    "    plan = []\n",
    "    snapshots = []\n",
    "    schematic_so_far = np.zeros(SCHEMATIC_SIZE)\n",
    "    for x, y, z in it.product(*[range(d) for d in schematic.shape]):\n",
    "        if schematic[x, y, z] == 0:\n",
    "            continue\n",
    "        plan.append((\n",
    "            annotation_vocab[annotation], \n",
    "            ACTION_GO, \n",
    "            (x, y, z, schematic[x, y, z]), \n",
    "        ))\n",
    "        snapshots.append(schematic_so_far.copy())\n",
    "        if x < SCHEMATIC_SIZE[0] and y < SCHEMATIC_SIZE[1] and z < SCHEMATIC_SIZE[2]:\n",
    "            schematic_so_far[x, y, z] = schematic[x, y, z]\n",
    "    plan.append((0, ACTION_STOP, (0, 0, 0, 0)))\n",
    "    snapshots.append(schematic_so_far.copy())\n",
    "    return plan, snapshots\n",
    "\n",
    "plans_flat = []\n",
    "plans_hier = []\n",
    "for schematic, segmentation, annotations, house_id in segments:\n",
    "    keep_schematic = np.zeros(schematic.shape, dtype=np.int32)\n",
    "    \n",
    "    for i, annotation in enumerate(annotations):\n",
    "        if annotation not in GOOD_PARTS:\n",
    "            continue\n",
    "        keep_schematic[segmentation == i] = schematic[segmentation == i]\n",
    "    if (keep_schematic > 0).sum() == 0:\n",
    "        continue\n",
    "    plan_flat, snapshots_flat = construct_plan(keep_schematic, \"house\")\n",
    "    plans_flat.append(plan_flat)\n",
    "    np.savez(\"snapshots/flat/{}.npz\".format(len(plans_flat)-1), data=snapshots_flat)\n",
    "    \n",
    "    plan_hier = []\n",
    "    snapshots_hier = []\n",
    "    for i in np.random.permutation(len(annotations)):\n",
    "        annotation = annotations[i]\n",
    "        if annotation not in GOOD_PARTS:\n",
    "            continue\n",
    "        part_schematic = np.zeros(schematic.shape, dtype=np.int32)\n",
    "        part_schematic[segmentation == i] = schematic[segmentation == i]\n",
    "        part_plan_hier, part_snapshots_hier = construct_plan(part_schematic, annotation)\n",
    "        plan_hier += part_plan_hier\n",
    "        snapshots_hier += part_snapshots_hier\n",
    "    plans_hier.append(plan_hier)\n",
    "    np.savez(\"snapshots/hier/{}.npz\".format(len(plans_flat)-1), data=snapshots_hier)\n",
    "    \n",
    "    assert len([p for p in plan_flat if p[1] != ACTION_STOP]) == len([p for p in plan_hier if p[1] != ACTION_STOP])\n",
    "    \n",
    "with open(\"flat.pkl\", \"wb\") as f:\n",
    "    pickle.dump(plans_flat, f)\n",
    "    \n",
    "with open(\"hier.pkl\", \"wb\") as f:\n",
    "    pickle.dump(plans_hier, f)\n",
    "\n",
    "with open(\"annotation_vocab.json\", \"w\") as f:\n",
    "    json.dump(annotation_vocab, f)"
   ]
  }
 ],
 "metadata": {
  "kernelspec": {
   "display_name": "Python 3",
   "language": "python",
   "name": "python3"
  },
  "language_info": {
   "codemirror_mode": {
    "name": "ipython",
    "version": 3
   },
   "file_extension": ".py",
   "mimetype": "text/x-python",
   "name": "python",
   "nbconvert_exporter": "python",
   "pygments_lexer": "ipython3",
   "version": "3.6.3"
  },
  "latex_envs": {
   "LaTeX_envs_menu_present": true,
   "autoclose": false,
   "autocomplete": true,
   "bibliofile": "biblio.bib",
   "cite_by": "apalike",
   "current_citInitial": 1,
   "eqLabelWithNumbers": true,
   "eqNumInitial": 1,
   "hotkeys": {
    "equation": "Ctrl-E",
    "itemize": "Ctrl-I"
   },
   "labels_anchors": false,
   "latex_user_defs": false,
   "report_style_numbering": false,
   "user_envs_cfg": false
  },
  "toc": {
   "base_numbering": 1,
   "nav_menu": {},
   "number_sections": true,
   "sideBar": true,
   "skip_h1_title": false,
   "title_cell": "Table of Contents",
   "title_sidebar": "Contents",
   "toc_cell": false,
   "toc_position": {},
   "toc_section_display": true,
   "toc_window_display": false
  },
  "varInspector": {
   "cols": {
    "lenName": 16,
    "lenType": 16,
    "lenVar": 40
   },
   "kernels_config": {
    "python": {
     "delete_cmd_postfix": "",
     "delete_cmd_prefix": "del ",
     "library": "var_list.py",
     "varRefreshCmd": "print(var_dic_list())"
    },
    "r": {
     "delete_cmd_postfix": ") ",
     "delete_cmd_prefix": "rm(",
     "library": "var_list.r",
     "varRefreshCmd": "cat(var_dic_list()) "
    }
   },
   "types_to_exclude": [
    "module",
    "function",
    "builtin_function_or_method",
    "instance",
    "_Feature"
   ],
   "window_display": false
  }
 },
 "nbformat": 4,
 "nbformat_minor": 2
}
